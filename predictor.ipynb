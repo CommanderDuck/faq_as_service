{
 "cells": [
  {
   "cell_type": "code",
   "execution_count": 1,
   "metadata": {
    "ExecuteTime": {
     "end_time": "2018-02-27T20:42:19.088052Z",
     "start_time": "2018-02-27T20:42:18.815300Z"
    }
   },
   "outputs": [],
   "source": [
    "import re\n",
    "import numpy as np\n",
    "\n",
    "class Predictor():\n",
    "    def __init__(self, ft_model_path, faq_scv_path):\n",
    "        import fastText\n",
    "        import pandas as pd\n",
    "        from sklearn.neighbors import KNeighborsClassifier\n",
    "        faq_scv = pd.read_csv(faq_scv_path)\n",
    "        if len(faq_scv) == 0:\n",
    "            raise('FAQ is empty')\n",
    "        faq_scv['question'] = faq_scv['question'].map(self._clean_text)\n",
    "        faq_scv['answer'] = faq_scv['answer'].map(self._clean_text)\n",
    "        \n",
    "        self.ft_model = fastText.load_model(ft_model_path)\n",
    "        faq_scv['vec'] = faq_scv.apply(lambda row: self._get_row_vector(row), axis=1)\n",
    "        \n",
    "        self.knn_model = KNeighborsClassifier(n_neighbors=1, weights='distance')\n",
    "        self.knn_model.fit(np.vstack(faq_scv['vec'].values), np.zeros(len(faq_scv)))\n",
    "\n",
    "    def _get_sentence_vector(self, sentence):\n",
    "        vec = np.zeros(self.ft_model.get_dimension())\n",
    "        sentence_split = sentence.split()\n",
    "        for word in sentence_split:\n",
    "            vec += self.ft_model.get_word_vector(word)\n",
    "        return vec / len(sentence_split)\n",
    "        \n",
    "    def _get_row_vector(self, row):\n",
    "        clean_question = self._clean_text(row['question'])\n",
    "        clean_answer = self._clean_text(row['answer'])\n",
    "        question_vector = self._get_sentence_vector(clean_question)\n",
    "        answer_vector = self._get_sentence_vector(clean_answer)\n",
    "        return list(question_vector * 0.4 + answer_vector * 0.6)\n",
    "        \n",
    "    def _clean_text(self, text):\n",
    "        text = re.sub(r'[^\\w\\s]',' ', text)\n",
    "        text = text.lower()\n",
    "        return ' '.join(text.split())\n",
    "    \n",
    "    def predict(self, user_query, n_neighbors=3):\n",
    "        clean_user_query = self._clean_text(user_query)\n",
    "        user_query_vector = self._get_sentence_vector(clean_user_query)\n",
    "        if not clean_user_query:\n",
    "            return 'Введите вопрос', 1\n",
    "        knn_result = self.knn_model.kneighbors([user_query_vector], n_neighbors=n_neighbors)\n",
    "        max_distance = 5\n",
    "        match_indexes = list(knn_result[1][0,:])\n",
    "        match_distances = knn_result[0][0,:]\n",
    "        match_probas = 2 / (1 + np.exp2(match_distances))\n",
    "        match_percents = list((match_probas * 100).astype(int))\n",
    "        return match_indexes, match_percents"
   ]
  },
  {
   "cell_type": "code",
   "execution_count": 2,
   "metadata": {
    "ExecuteTime": {
     "end_time": "2018-02-27T20:42:37.288259Z",
     "start_time": "2018-02-27T20:42:19.229851Z"
    }
   },
   "outputs": [],
   "source": [
    "predictor = Predictor('wiki.ru/wiki.ru.bin', 'faq.csv')"
   ]
  },
  {
   "cell_type": "code",
   "execution_count": 5,
   "metadata": {
    "ExecuteTime": {
     "end_time": "2018-02-27T20:44:07.239250Z",
     "start_time": "2018-02-27T20:44:01.856139Z"
    }
   },
   "outputs": [
    {
     "name": "stdout",
     "output_type": "stream",
     "text": [
      "6.71 ms ± 578 µs per loop (mean ± std. dev. of 7 runs, 100 loops each)\n"
     ]
    }
   ],
   "source": [
    "%%timeit\n",
    "for user_query in ['как уйти в отпуск', 'компенсируйте мне отпуск пожалуйста',\n",
    "       'можно ли оформлять отпуск на выходные', 'как сделать пропуск',\n",
    "       'можно ли не ходить в отпуск', 'здравствуйте',\n",
    "       'как получить зарплатную карту',\n",
    "       'можно ли сделать больничный в отпуске',\n",
    "       'как получить копию трудового договора',\n",
    "       'за сколько дней нужно подавать заявку на отпуск?',\n",
    "       'сколько дней отпуска можно взять единовременно',\n",
    "       'когда выдаются премии?', 'что делать если я заболел',\n",
    "       'отменяются ли дни отпуска, которые пересекаются с больничным?',\n",
    "       'можно ли оформить отпуск на выходные?',\n",
    "       'даются ли отгулы за сдачу крови?',\n",
    "       'есть ли дополнительный отпуск тем, кто работал в Чернобыле?',\n",
    "       'стань умнее меня может дообучить администратор базы знаний']:\n",
    "    predictor.predict(user_query)"
   ]
  },
  {
   "cell_type": "code",
   "execution_count": null,
   "metadata": {
    "collapsed": true
   },
   "outputs": [],
   "source": []
  }
 ],
 "metadata": {
  "kernelspec": {
   "display_name": "Python 3",
   "language": "python",
   "name": "python3"
  },
  "language_info": {
   "codemirror_mode": {
    "name": "ipython",
    "version": 3
   },
   "file_extension": ".py",
   "mimetype": "text/x-python",
   "name": "python",
   "nbconvert_exporter": "python",
   "pygments_lexer": "ipython3",
   "version": "3.6.1"
  }
 },
 "nbformat": 4,
 "nbformat_minor": 2
}
